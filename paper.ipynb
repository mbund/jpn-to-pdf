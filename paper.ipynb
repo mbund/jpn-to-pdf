{
 "cells": [
  {
   "cell_type": "code",
   "execution_count": null,
   "metadata": {},
   "outputs": [
    {
     "ename": "",
     "evalue": "",
     "output_type": "error",
     "traceback": [
      "\u001b[1;31mThe kernel failed to start due to an error with the 'pyzmq' module. Consider re-installing this module. \n",
      "View Jupyter <a href='command:jupyter.viewOutput'>log</a> for further details.\n",
      "<a href='https://aka.ms/kernelFailuresPyzmq'>Learn more</a>"
     ]
    }
   ],
   "source": [
    "from IPython.core.magic import register_line_magic\n",
    "from IPython.display import display, Markdown\n",
    "import matplotlib_inline\n",
    "import json\n",
    "\n",
    "def md(s):\n",
    "    display(Markdown(s))\n",
    "\n",
    "@register_line_magic\n",
    "def figure(line):\n",
    "    assert isinstance(json.loads(line), str)\n",
    "\n",
    "@register_line_magic\n",
    "def render(line):\n",
    "    assert line == ''\n",
    "\n",
    "%matplotlib inline\n",
    "matplotlib_inline.backend_inline.set_matplotlib_formats('png', 'pdf')\n",
    "%render"
   ]
  },
  {
   "cell_type": "markdown",
   "metadata": {},
   "source": [
    "# Summary\n",
    "my summary"
   ]
  },
  {
   "cell_type": "code",
   "execution_count": null,
   "metadata": {},
   "outputs": [
    {
     "data": {
      "text/markdown": [
       "As you can see the average is $\\overline{x}=6$"
      ],
      "text/plain": [
       "<IPython.core.display.Markdown object>"
      ]
     },
     "metadata": {},
     "output_type": "display_data"
    }
   ],
   "source": [
    "%render\n",
    "import random\n",
    "x = random.randint(1, 10)\n",
    "md(f\"As you can see the average is $\\\\overline{{x}}={x}$\")"
   ]
  },
  {
   "cell_type": "markdown",
   "metadata": {},
   "source": [
    "We assume it is a normal distribution because of the central limit thereom [@enwiki:1053264438]."
   ]
  },
  {
   "cell_type": "code",
   "execution_count": null,
   "metadata": {},
   "outputs": [
    {
     "ename": "",
     "evalue": "",
     "output_type": "error",
     "traceback": [
      "\u001b[1;31mThe kernel failed to start due to an error with the 'pyzmq' module. Consider re-installing this module. \n",
      "View Jupyter <a href='command:jupyter.viewOutput'>log</a> for further details.\n",
      "<a href='https://aka.ms/kernelFailuresPyzmq'>Learn more</a>"
     ]
    }
   ],
   "source": [
    "%figure \"Histogram of rolls of two dice\"\n",
    "\n",
    "import numpy as np\n",
    "import matplotlib.pyplot as plt\n",
    "a = np.random.randint(1, 6 + 1, 100)\n",
    "b = np.random.randint(1, 6 + 1, 100)\n",
    "both = a+b\n",
    "plt.xticks(range(2, 12 + 2))\n",
    "plt.bar(np.arange(2, 13), np.bincount(both, minlength=13)[2:])\n",
    "plt.savefig('histogram.pgf')\n",
    "plt.show()"
   ]
  },
  {
   "cell_type": "code",
   "execution_count": null,
   "metadata": {},
   "outputs": [
    {
     "data": {
      "application/pdf": "[encoded data removed]",
      "image/png": "[encoded data removed]",
      "text/plain": [
       "<Figure size 432x288 with 1 Axes>"
      ]
     },
     "metadata": {
      "needs_background": "light"
     },
     "output_type": "display_data"
    }
   ],
   "source": [
    "%figure \"Linear regression\"\n",
    "\n",
    "x = np.random.randint(1, 100, 100)\n",
    "y = np.random.randint(1, 100, 100)\n",
    "model = np.polyfit(x, y, 1)\n",
    "predict = np.poly1d(model)\n",
    "\n",
    "x_line = range(1, 100)\n",
    "y_line = predict(x_line)\n",
    "\n",
    "plt.scatter(x, y)\n",
    "plt.plot(x_line, y_line, c = \"r\")\n",
    "plt.show()"
   ]
  },
  {
   "cell_type": "markdown",
   "metadata": {},
   "source": [
    "```{=latex}\n",
    "\\clearpage\n",
    "\\tableofcontents\n",
    "\\clearpage\n",
    "```"
   ]
  }
 ],
 "metadata": {
  "interpreter": {
   "hash": "2d99ade707faa157974206964dd5833c32d0d851271cdaaa4d4e3d0cc5fbb18a"
  },
  "kernelspec": {
   "display_name": "Python 3.10.0 64-bit ('hello-world-rkCDvYWO-py3.10': poetry)",
   "language": "python",
   "name": "python3"
  },
  "language_info": {
   "codemirror_mode": {
    "name": "ipython",
    "version": 3
   },
   "file_extension": ".py",
   "mimetype": "text/x-python",
   "name": "python",
   "nbconvert_exporter": "python",
   "pygments_lexer": "ipython3",
   "version": "3.9.9"
  },
  "orig_nbformat": 4
 },
 "nbformat": 4,
 "nbformat_minor": 2
}
